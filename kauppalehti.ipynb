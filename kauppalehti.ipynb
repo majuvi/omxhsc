{
 "cells": [
  {
   "cell_type": "markdown",
   "id": "2220a5aa",
   "metadata": {},
   "source": [
    "## Kauppalehti login & password"
   ]
  },
  {
   "cell_type": "code",
   "execution_count": 1,
   "id": "a1aae38c",
   "metadata": {},
   "outputs": [],
   "source": [
    "import json \n",
    "# Edit secrets.json file with your login details\n",
    "with open('secrets.json', 'r') as file:\n",
    "    secrets = json.load(file)\n",
    "    LOGIN_EMAIL = secrets['KAUPPALEHTI_LOGIN_EMAIL']\n",
    "    LOGIN_PASSWORD = secrets['KAUPPALEHTI_LOGIN_PASSWORD']"
   ]
  },
  {
   "cell_type": "markdown",
   "id": "1610b275",
   "metadata": {},
   "source": [
    "## Libraries"
   ]
  },
  {
   "cell_type": "code",
   "execution_count": 2,
   "id": "87a43363",
   "metadata": {},
   "outputs": [],
   "source": [
    "import numpy as np\n",
    "import pandas as pd\n",
    "import time\n",
    "import os\n",
    "import datetime"
   ]
  },
  {
   "cell_type": "code",
   "execution_count": 3,
   "id": "1ad97bf6",
   "metadata": {},
   "outputs": [],
   "source": [
    "import selenium\n",
    "from selenium import webdriver\n",
    "from selenium.webdriver.chrome.service import Service\n",
    "from selenium import webdriver\n",
    "from selenium.webdriver.common.keys import Keys\n",
    "from selenium.webdriver.common.by import By\n",
    "from selenium.webdriver.support.ui import WebDriverWait\n",
    "from selenium.webdriver.support import expected_conditions as EC\n"
   ]
  },
  {
   "cell_type": "markdown",
   "id": "8196af5f",
   "metadata": {},
   "source": [
    "## Functions"
   ]
  },
  {
   "cell_type": "code",
   "execution_count": 46,
   "id": "a3aec686",
   "metadata": {},
   "outputs": [],
   "source": [
    "def fetch_kauppalehti_stocks(exchange, year=None):\n",
    "    url_exchange = 'https://www.kauppalehti.fi/porssi/kurssit/{exchange}/historia'.format(exchange=exchange)\n",
    "\n",
    "    driver.get(url_exchange)\n",
    "    time.sleep(1)\n",
    "    cal = driver.find_element(By.XPATH, '//div[@class=\"react-datepicker__input-container\"]/input')\n",
    "    cal.click()\n",
    "    time.sleep(1)\n",
    "    cal.send_keys(Keys.CONTROL + \"a\")\n",
    "    time.sleep(0.5)\n",
    "    if not year is None:\n",
    "        cal.send_keys(\"01.01.{}\".format(year))\n",
    "    else:\n",
    "        cal.send_keys(datetime.datetime.now().strftime(\"%d.%m.%Y\"))\n",
    "    time.sleep(0.5)\n",
    "\n",
    "    html = driver.find_element(By.TAG_NAME, 'html')\n",
    "    for i in range(10):\n",
    "        html.send_keys(Keys.PAGE_DOWN)\n",
    "        time.sleep(0.5)\n",
    "\n",
    "    stocks_add = {}\n",
    "    stocks_ahref = driver.find_elements(By.XPATH, '//a[@class=\"ValueOutput__Link-tmcl-__sc-18ro7st-3 htvErj\"]')\n",
    "    stocks_add.update({stock.text: stock.get_attribute('href') for stock in stocks_ahref})\n",
    "    stocks_ahref = driver.find_elements(By.XPATH, '//a[@class=\"ValueOutput__Link-tmcl-__sc-18ro7st-3 htKUiM\"]')\n",
    "    stocks_add.update({stock.text: stock.get_attribute('href') for stock in stocks_ahref})\n",
    "\n",
    "    return stocks_add"
   ]
  },
  {
   "cell_type": "code",
   "execution_count": 5,
   "id": "c2be91a6",
   "metadata": {},
   "outputs": [],
   "source": [
    "class DownloadError(Exception):\n",
    "    pass"
   ]
  },
  {
   "cell_type": "code",
   "execution_count": 6,
   "id": "e7a79180",
   "metadata": {},
   "outputs": [],
   "source": [
    "def fetch_kauppalehti_prices(stock, download_path):\n",
    "    stock_url = 'https://www.kauppalehti.fi/porssi/porssikurssit/osake/{stock}/kurssihistoria'.format(stock=stock)\n",
    "    download_csv = os.path.join(download_path, 'kurssihistoria.csv')\n",
    "    stock_csv = os.path.join(download_path, '{name}.csv'.format(name=stock))\n",
    "\n",
    "    if not os.path.exists(stock_csv) or datetime.datetime.fromtimestamp(os.path.getmtime(stock_csv)).date() < datetime.date.today():\n",
    "        if os.path.exists(download_csv):\n",
    "            os.remove(download_csv)\n",
    "        if os.path.exists(stock_csv):\n",
    "            os.remove(stock_csv)\n",
    "\n",
    "        driver.get(stock_url)\n",
    "        time.sleep(1)\n",
    "\n",
    "        #ytd = driver.find_element(By.XPATH, '//div[@class=\"timespan-selector-container undefined\"]/button[text()=\"10 v\"]')\n",
    "        #ytd.click()\n",
    "        #time.sleep(3)\n",
    "\n",
    "        # set start date 1.1.2013\n",
    "        cal = driver.find_element(By.XPATH, '//div[@class=\"react-datepicker__input-container\"]/input')\n",
    "        cal.click()\n",
    "        time.sleep(1)\n",
    "        cal.send_keys(Keys.CONTROL + \"a\")\n",
    "        time.sleep(0.5)\n",
    "        cal.send_keys(\"01.01.2013\")\n",
    "        time.sleep(1)\n",
    "        cal = driver.find_element(By.XPATH, '//div[@class=\"react-datepicker__week\"]//div[2]')\n",
    "        cal.click()\n",
    "        time.sleep(3)\n",
    "\n",
    "        # download\n",
    "        submit = driver.find_element(By.XPATH, '//div[@class=\"excel-container\"]/button')\n",
    "        submit.click()\n",
    "        time.sleep(1)\n",
    "\n",
    "        if os.path.exists(download_csv):\n",
    "            os.rename(download_csv, stock_csv)\n",
    "        else:\n",
    "            raise DownloadError(\"Download CSV failed for {url}\".format(url=stock_url))"
   ]
  },
  {
   "cell_type": "code",
   "execution_count": 7,
   "id": "55ea9714",
   "metadata": {},
   "outputs": [],
   "source": [
    "def fetch_kauppalehti_dividends(download_path):\n",
    "    download_csv = os.path.join(download_path, 'Osinkohistoria.csv')\n",
    "    \n",
    "    if not os.path.exists(download_csv) or datetime.datetime.fromtimestamp(os.path.getmtime(download_csv)).date() < datetime.date.today():\n",
    "        if os.path.exists(download_csv):\n",
    "            os.remove(download_csv)\n",
    "            \n",
    "        dividend_url = 'https://www.kauppalehti.fi/porssi/osinkohistoria/'\n",
    "        driver.get(dividend_url)\n",
    "\n",
    "        #ytd = driver.find_element(By.XPATH, '//div[@class=\"dividend-button-container\"]/button[text()=\"10 v\"]')\n",
    "        #ytd.click()\n",
    "\n",
    "        # set start date 1.1.2013\n",
    "        cal = driver.find_element(By.XPATH, '//div[@class=\"react-datepicker__input-container\"]/input')\n",
    "        cal.click()\n",
    "        time.sleep(0.5)\n",
    "        cal.send_keys(Keys.CONTROL + \"a\")\n",
    "        cal.send_keys(\"01.01.2013\")\n",
    "        time.sleep(0.5)\n",
    "        cal.send_keys(Keys.ENTER)\n",
    "\n",
    "        # download\n",
    "        dl = driver.find_element(By.XPATH, '//div[@class=\"StockListActionHeader__ActionButtons-tmcl-__sc-1x2rtef-1 dUaQZW\"]/button[2]')\n",
    "        dl.click()\n",
    "        time.sleep(1)\n",
    "\n",
    "        if not os.path.exists(download_csv):\n",
    "            raise DownloadError(\"Download CSV failed for {url}\".format(url=dividend_url))"
   ]
  },
  {
   "cell_type": "code",
   "execution_count": 8,
   "id": "07bd916b",
   "metadata": {},
   "outputs": [],
   "source": [
    "def get_total_return(download_path, key_file):\n",
    "    # Kauppalehti ticker to stock name\n",
    "    ticker_name = pd.read_csv(key_file).set_index('ticker')['name']\n",
    "    \n",
    "    # Read dividends\n",
    "    fn_dividends = os.path.join(download_path,'Osinkohistoria.csv')\n",
    "    dividends = pd.read_csv(fn_dividends, sep=\";\", decimal=\",\", parse_dates=[1], usecols=[0,1,2])\n",
    "    dividends.rename(columns={\"Irtoamispäivä\": \"Päivämäärä\", \"Voitonjako, €\":\"Osinko\"}, inplace=True)\n",
    "    dividends = dividends.groupby(['Osake', 'Päivämäärä'], as_index=False)['Osinko'].sum()\n",
    "    dividends = dividends.sort_values(['Osake', 'Päivämäärä']).drop_duplicates()\n",
    "    #dividends.head()\n",
    "    \n",
    "    # Read stock prices\n",
    "    price = {}\n",
    "    for filename in os.listdir('dls'):\n",
    "        if filename.endswith(\".csv\") and filename != 'Osinkohistoria.csv': \n",
    "            stock = ticker_name[os.path.splitext(filename)[0]]\n",
    "            stock_df = pd.read_csv(os.path.join('dls', filename), sep=';', decimal=',', parse_dates=[0])\n",
    "            stock_df = stock_df.loc[~stock_df['Päivämäärä'].duplicated(keep='first'),]\n",
    "            #stock_df['Päätöskurssi'].fillna(method='ffill', inplace=True)\n",
    "            price[stock] = stock_df\n",
    "    prices = pd.concat(price, axis=0, names=['Osake', 'n']).reset_index()\n",
    "    prices = prices[['Osake', 'Päivämäärä', 'Vaihto €', 'Ylin', 'Alin', 'Keskimäärin', 'Päätöskurssi']]\n",
    "    # some fixes\n",
    "    prices.dropna(axis=0, subset=['Päätöskurssi'], inplace=True) \n",
    "    prices.drop(index=prices[prices['Osake'] == 'Efore Uudet 2018'].index, inplace=True)\n",
    "    #prices.head()\n",
    "    \n",
    "    # Calculate total return\n",
    "    returns = prices.merge(dividends, on=['Osake', 'Päivämäärä'], how='left')\n",
    "    returns.sort_values(['Osake', 'Päivämäärä'], inplace=True)\n",
    "    returns['Osinko'].fillna(0.0, inplace=True)\n",
    "    returns['Osakemäärä'] = 1 + returns['Osinko'] / returns['Päätöskurssi']\n",
    "    returns['Osakemäärä'] = returns.groupby('Osake')['Osakemäärä'].cumprod()\n",
    "    returns['Päätöskurssi + Osinko'] = returns['Päätöskurssi'] * returns['Osakemäärä']\n",
    "    #returns.head()\n",
    "    \n",
    "    # Save\n",
    "    returns = returns[(returns['Päivämäärä'] >= pd.Timestamp('2013-01-01'))]# (returns['Päivämäärä'] < pd.Timestamp('2023-01-01'))\n",
    "    returns = returns[['Osake', 'Päivämäärä', 'Vaihto €', 'Ylin', 'Alin', 'Keskimäärin', 'Päätöskurssi', 'Päätöskurssi + Osinko']]\n",
    "    returns.to_csv(\"prices.csv\", index=False, header=True, date_format='%Y-%m-%d', float_format='%.4f')"
   ]
  },
  {
   "cell_type": "markdown",
   "id": "a3207ffd",
   "metadata": {},
   "source": [
    "## Initialize selenium"
   ]
  },
  {
   "cell_type": "code",
   "execution_count": 36,
   "id": "c320a84a",
   "metadata": {},
   "outputs": [],
   "source": [
    "download_path = os.path.join(os.getcwd(), 'dls')\n",
    "webdriver_path = 'chromedriver.exe'"
   ]
  },
  {
   "cell_type": "code",
   "execution_count": 37,
   "id": "17a35cef",
   "metadata": {},
   "outputs": [
    {
     "name": "stderr",
     "output_type": "stream",
     "text": [
      "C:\\Users\\mvil4\\AppData\\Local\\Temp\\ipykernel_11540\\506388869.py:4: DeprecationWarning: executable_path has been deprecated, please pass in a Service object\n",
      "  driver = webdriver.Chrome(webdriver_path, chrome_options=chrome_options)\n",
      "C:\\Users\\mvil4\\AppData\\Local\\Temp\\ipykernel_11540\\506388869.py:4: DeprecationWarning: use options instead of chrome_options\n",
      "  driver = webdriver.Chrome(webdriver_path, chrome_options=chrome_options)\n"
     ]
    }
   ],
   "source": [
    "chrome_options = webdriver.ChromeOptions()\n",
    "prefs = {'download.default_directory' : download_path}\n",
    "chrome_options.add_experimental_option('prefs', prefs)\n",
    "driver = webdriver.Chrome(webdriver_path, chrome_options=chrome_options)"
   ]
  },
  {
   "cell_type": "markdown",
   "id": "995b4699",
   "metadata": {},
   "source": [
    "## Kauppalehti login"
   ]
  },
  {
   "cell_type": "code",
   "execution_count": 38,
   "id": "6ad42718",
   "metadata": {},
   "outputs": [],
   "source": [
    "driver.get('https://www.kauppalehti.fi')"
   ]
  },
  {
   "cell_type": "code",
   "execution_count": 39,
   "id": "46f53d39",
   "metadata": {},
   "outputs": [],
   "source": [
    "login_button = driver.find_element(By.XPATH, '//button[@aria-label=\"Kirjaudu\"]')\n",
    "login_button.click()"
   ]
  },
  {
   "cell_type": "code",
   "execution_count": 40,
   "id": "6f94ae12",
   "metadata": {},
   "outputs": [],
   "source": [
    "driver.find_element('id', 'alma-tunnus-username').send_keys(LOGIN_EMAIL)\n",
    "driver.find_element('id', 'alma-tunnus-password').send_keys(LOGIN_PASSWORD + Keys.RETURN)"
   ]
  },
  {
   "cell_type": "markdown",
   "id": "e1073f62",
   "metadata": {},
   "source": [
    "### Kauppalehti names"
   ]
  },
  {
   "cell_type": "code",
   "execution_count": 26,
   "id": "c555ecf5",
   "metadata": {},
   "outputs": [
    {
     "name": "stdout",
     "output_type": "stream",
     "text": [
      "XHEL\n",
      "2013: 124 total\n",
      "2014: 130 total\n",
      "2015: 136 total\n",
      "2016: 143 total\n",
      "2017: 147 total\n",
      "2018: 146 total\n",
      "2019: 151 total\n",
      "2020: 147 total\n",
      "2021: 144 total\n",
      "2022: 147 total\n",
      "2023: 146 total\n",
      "FNFI\n",
      "2013: 1 total\n",
      "2014: 1 total\n",
      "2015: 4 total\n",
      "2016: 9 total\n",
      "2017: 12 total\n",
      "2018: 16 total\n",
      "2019: 22 total\n",
      "2020: 25 total\n",
      "2021: 28 total\n",
      "2022: 48 total\n",
      "2023: 51 total\n"
     ]
    }
   ],
   "source": [
    "stocks = {}\n",
    "for exchange in ['XHEL', 'FNFI']:\n",
    "    print(exchange)\n",
    "    for year in range(2013, datetime.date.today().year+1):\n",
    "        print(year, end=': ')\n",
    "        stocks_add = fetch_kauppalehti_stocks(exchange, year)\n",
    "        stocks.update(stocks_add)\n",
    "        print(len(stocks_add), \"total\")\n",
    "    print(\"now\", end=': ')\n",
    "    stocks_add = fetch_kauppalehti_stocks(exchange)\n",
    "    stocks.update(stocks_add)\n",
    "    print(len(stocks_add), \"total\")\n",
    "# This needs to be run more rarely ..."
   ]
  },
  {
   "cell_type": "code",
   "execution_count": 52,
   "id": "efe8070e",
   "metadata": {},
   "outputs": [],
   "source": [
    "stocks_df = pd.DataFrame([(stock,url.split('/')[-1]) for stock, url in stocks.items()], columns=['name', 'ticker'])\n",
    "stocks_df.loc[stocks_df['ticker'] == 'NDA%20FI', 'ticker'] = 'NDA FI'\n",
    "stocks_df.to_csv('key_kauppalehti.csv', index=False)"
   ]
  },
  {
   "cell_type": "code",
   "execution_count": 53,
   "id": "e5bd04cf",
   "metadata": {},
   "outputs": [
    {
     "data": {
      "text/html": [
       "<div>\n",
       "<style scoped>\n",
       "    .dataframe tbody tr th:only-of-type {\n",
       "        vertical-align: middle;\n",
       "    }\n",
       "\n",
       "    .dataframe tbody tr th {\n",
       "        vertical-align: top;\n",
       "    }\n",
       "\n",
       "    .dataframe thead th {\n",
       "        text-align: right;\n",
       "    }\n",
       "</style>\n",
       "<table border=\"1\" class=\"dataframe\">\n",
       "  <thead>\n",
       "    <tr style=\"text-align: right;\">\n",
       "      <th></th>\n",
       "      <th>name</th>\n",
       "      <th>ticker</th>\n",
       "    </tr>\n",
       "  </thead>\n",
       "  <tbody>\n",
       "    <tr>\n",
       "      <th>0</th>\n",
       "      <td>Afarak Group</td>\n",
       "      <td>AFAGR</td>\n",
       "    </tr>\n",
       "    <tr>\n",
       "      <th>1</th>\n",
       "      <td>Affecto</td>\n",
       "      <td>AFE1V</td>\n",
       "    </tr>\n",
       "    <tr>\n",
       "      <th>2</th>\n",
       "      <td>Ahlstrom</td>\n",
       "      <td>AHL1V</td>\n",
       "    </tr>\n",
       "    <tr>\n",
       "      <th>3</th>\n",
       "      <td>Ahtium</td>\n",
       "      <td>AHTIUM</td>\n",
       "    </tr>\n",
       "    <tr>\n",
       "      <th>4</th>\n",
       "      <td>Aktia Pankki A</td>\n",
       "      <td>AKTIA</td>\n",
       "    </tr>\n",
       "  </tbody>\n",
       "</table>\n",
       "</div>"
      ],
      "text/plain": [
       "             name  ticker\n",
       "0    Afarak Group   AFAGR\n",
       "1         Affecto   AFE1V\n",
       "2        Ahlstrom   AHL1V\n",
       "3          Ahtium  AHTIUM\n",
       "4  Aktia Pankki A   AKTIA"
      ]
     },
     "execution_count": 53,
     "metadata": {},
     "output_type": "execute_result"
    }
   ],
   "source": [
    "stocks_df.head()"
   ]
  },
  {
   "cell_type": "code",
   "execution_count": 54,
   "id": "652d4447",
   "metadata": {},
   "outputs": [],
   "source": [
    "stocks_df = pd.read_csv('key_kauppalehti.csv')"
   ]
  },
  {
   "cell_type": "markdown",
   "id": "752e405c",
   "metadata": {},
   "source": [
    "### Kauppalehti price history"
   ]
  },
  {
   "cell_type": "code",
   "execution_count": 58,
   "id": "6467cd26",
   "metadata": {},
   "outputs": [],
   "source": [
    "for i, stock in enumerate(stocks_df['ticker']):\n",
    "    print(\"{}/{}\".format(i+1, len(stocks_df)), stock)\n",
    "    try:\n",
    "        fetch_kauppalehti_prices(stock, download_path)\n",
    "    except DownloadError as e:\n",
    "        print(e)"
   ]
  },
  {
   "cell_type": "markdown",
   "id": "9b702ae2",
   "metadata": {},
   "source": [
    "### Kauppalehti dividend history "
   ]
  },
  {
   "cell_type": "code",
   "execution_count": 31,
   "id": "bfdfc878",
   "metadata": {},
   "outputs": [],
   "source": [
    "fetch_kauppalehti_dividends(download_path)"
   ]
  },
  {
   "cell_type": "markdown",
   "id": "2d5a209f",
   "metadata": {},
   "source": [
    "### Kauppalehti total return"
   ]
  },
  {
   "cell_type": "code",
   "execution_count": 57,
   "id": "9a1af92c",
   "metadata": {},
   "outputs": [],
   "source": [
    "get_total_return(download_path, 'key_kauppalehti.csv')"
   ]
  },
  {
   "cell_type": "code",
   "execution_count": null,
   "id": "94bdf696",
   "metadata": {},
   "outputs": [],
   "source": []
  },
  {
   "cell_type": "markdown",
   "id": "56d5bee1",
   "metadata": {},
   "source": [
    "### Nasdaq"
   ]
  },
  {
   "cell_type": "code",
   "execution_count": 111,
   "id": "12a8b3d5",
   "metadata": {},
   "outputs": [],
   "source": [
    "driver.get(\"http://www.nasdaqomxnordic.com/index/index_info?Instrument=FI0008900006&name=OMX%20Helsinki_PI\")\n",
    "el = driver.find_elements(By.XPATH, '//table[@id=\"sharesInIndexTable\"]/tbody/tr')\n",
    "tickers_omxh = [e.get_attribute('title').split('-')[0].strip() for e in el]"
   ]
  },
  {
   "cell_type": "code",
   "execution_count": 112,
   "id": "a43945e5",
   "metadata": {},
   "outputs": [],
   "source": [
    "driver.get(\"http://www.nasdaqomxnordic.com/index/index_info?Instrument=SE0007551361&name=First%20North%20Finland%20EUR%20PI\")\n",
    "el = driver.find_elements(By.XPATH, '//table[@id=\"sharesInIndexTable\"]/tbody/tr')\n",
    "tickers_fnfi = [e.get_attribute('title').split('-')[0].strip() for e in el]"
   ]
  },
  {
   "cell_type": "code",
   "execution_count": 113,
   "id": "40e198ad",
   "metadata": {},
   "outputs": [],
   "source": [
    "tickers = tickers_omxh + tickers_fnfi"
   ]
  },
  {
   "cell_type": "code",
   "execution_count": 125,
   "id": "9f82a315",
   "metadata": {},
   "outputs": [
    {
     "data": {
      "text/plain": [
       "set()"
      ]
     },
     "execution_count": 125,
     "metadata": {},
     "output_type": "execute_result"
    }
   ],
   "source": [
    "# Check that all (current) tickers were succesfully fetched from kauppalehti\n",
    "set(tickers).difference(set(stocks_df['ticker']))"
   ]
  },
  {
   "cell_type": "markdown",
   "id": "3f8bd0c3",
   "metadata": {},
   "source": [
    "### Yahoo"
   ]
  },
  {
   "cell_type": "code",
   "execution_count": 126,
   "id": "2673064c",
   "metadata": {},
   "outputs": [],
   "source": [
    "import yfinance as yf"
   ]
  },
  {
   "cell_type": "code",
   "execution_count": 59,
   "id": "94835505",
   "metadata": {},
   "outputs": [],
   "source": [
    "for i, ticker in enumerate(tickers):\n",
    "    print(ticker, \"{}/{}\".format(i+1, len(tickers)))\n",
    "    stock_df = yf.Ticker(\"{ticker}.HE\".format(ticker='NDA-FI' if ticker == 'NDA FI' else ticker))\n",
    "    hist = stock_df.history(start='2013-01-01', end=datetime.datetime.now().strftime('%Y-%m-%d'), period=\"max\")\n",
    "    hist.to_csv(os.path.join('yahoo', '{stock}.csv'.format(stock=ticker)), float_format='%.3f')\n",
    "    time.sleep(10)"
   ]
  },
  {
   "cell_type": "code",
   "execution_count": null,
   "id": "675a5118",
   "metadata": {},
   "outputs": [],
   "source": []
  }
 ],
 "metadata": {
  "kernelspec": {
   "display_name": "Python (inderes)",
   "language": "python",
   "name": "inderes"
  },
  "language_info": {
   "codemirror_mode": {
    "name": "ipython",
    "version": 3
   },
   "file_extension": ".py",
   "mimetype": "text/x-python",
   "name": "python",
   "nbconvert_exporter": "python",
   "pygments_lexer": "ipython3",
   "version": "3.11.5"
  }
 },
 "nbformat": 4,
 "nbformat_minor": 5
}
